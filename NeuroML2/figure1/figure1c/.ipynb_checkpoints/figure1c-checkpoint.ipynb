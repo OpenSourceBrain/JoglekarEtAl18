{
 "cells": [
  {
   "cell_type": "markdown",
   "metadata": {},
   "source": [
    "### Figure 1C"
   ]
  },
  {
   "cell_type": "code",
   "execution_count": 80,
   "metadata": {},
   "outputs": [],
   "source": [
    "import numpy as np\n",
    "import matplotlib.pyplot as plt\n",
    "import matplotlib"
   ]
  },
  {
   "cell_type": "code",
   "execution_count": 81,
   "metadata": {},
   "outputs": [],
   "source": [
    "maxamplocal=np.load('maxamplocal.npy')\n",
    "wEErange=np.arange(4,6.5,.05)              # range of synaptic weights E to E\n",
    "wEIrange=np.arange(4.5,7,.1)              # range of synaptic weights I to E\n",
    "wEEweak=4.45                                # synpatic weight E to E weak LBA    \n",
    "wEIweak=4.7                                 # synpatic weight I to E weak LBA\n",
    "wEEstrong=6                                 # synaptic weight E to E strong LBA\n",
    "wEIstrong=6.7                               # synaptic weight I to E strong LBA\n"
   ]
  },
  {
   "cell_type": "code",
   "execution_count": 114,
   "metadata": {},
   "outputs": [
    {
     "data": {
      "text/plain": [
       "Text(0.5, 0, 'Local E to E coupling')"
      ]
     },
     "execution_count": 114,
     "metadata": {},
     "output_type": "execute_result"
    },
    {
     "data": {
      "image/png": "[encoded data removed]",
      "text/plain": [
       "<Figure size 432x288 with 1 Axes>"
      ]
     },
     "metadata": {
      "needs_background": "light"
     },
     "output_type": "display_data"
    }
   ],
   "source": [
    "X, Y = np.meshgrid(wEErange, wEIrange)\n",
    "levels = np.linspace(-1,4,70)\n",
    "plt.contourf(X,Y,maxamplocal,levels=levels,cmap='hot')       \n",
    "plt.contourf(X,Y,maxamplocal,levels=np.linspace(-5,0),colors='silver')     \n",
    "plt.plot(wEEstrong,wEIstrong,'mx')\n",
    "plt.plot(wEEweak,wEIweak,'gx')\n",
    "plt.ylabel('Local I to E coupling', fontsize=15)\n",
    "plt.xlabel('Local E to E coupling', fontsize=15)"
   ]
  },
  {
   "cell_type": "markdown",
   "metadata": {},
   "source": [
    "##### For a figure similar to paper decrease the step for wEE and wEI. Be aware that the simulation is going to take longer."
   ]
  },
  {
   "cell_type": "code",
   "execution_count": null,
   "metadata": {},
   "outputs": [],
   "source": []
  }
 ],
 "metadata": {
  "kernelspec": {
   "display_name": "Python 3",
   "language": "python",
   "name": "python3"
  },
  "language_info": {
   "codemirror_mode": {
    "name": "ipython",
    "version": 3
   },
   "file_extension": ".py",
   "mimetype": "text/x-python",
   "name": "python",
   "nbconvert_exporter": "python",
   "pygments_lexer": "ipython3",
   "version": "3.7.4"
  }
 },
 "nbformat": 4,
 "nbformat_minor": 2
}
